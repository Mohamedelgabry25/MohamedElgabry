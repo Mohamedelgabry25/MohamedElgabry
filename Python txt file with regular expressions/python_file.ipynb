{
 "cells": [
  {
   "cell_type": "code",
   "execution_count": 13,
   "metadata": {},
   "outputs": [
    {
     "name": "stdout",
     "output_type": "stream",
     "text": [
      "['01023445678', '01243423422']\n",
      "['ahmed@gmail.com', 'ali@gmail.com']\n",
      "['Ahmed Hafez', '01023445678 ahmed', 'Ali Osama', '01243423422 ali']\n"
     ]
    }
   ],
   "source": [
    "import re\n",
    "file_gabry = open(\"gabry.txt\")\n",
    "\n",
    "string_gabry = \"\"\n",
    "for i in file_gabry:\n",
    "    string_gabry+=i\n",
    "\n",
    "\n",
    "\n",
    "gabry_search = re.compile(\"(010|011|012)\\d{8}\")\n",
    "gabry_counter = gabry_search.finditer(string_gabry)\n",
    "\n",
    "number_list = []\n",
    "for phone in gabry_counter:\n",
    "    start = phone.span()[0]\n",
    "    end = phone.span()[1]\n",
    "    number_list.append(string_gabry[start:end])\n",
    "print(number_list)\n",
    "\n",
    "\n",
    "\n",
    "gabry_search = re.compile(\"[A-Za-z]+@[A-Za-z]+\\.com\")\n",
    "gabry_counter = gabry_search.finditer(string_gabry)\n",
    "\n",
    "email_list = []\n",
    "for email in gabry_counter:\n",
    "    start = email.span()[0]\n",
    "    end = email.span()[1]\n",
    "    email_list.append(string_gabry[start:end])\n",
    "print(email_list)\n",
    "\n",
    "gabry_search = re.compile(\"\\w+[  ]\\w+\")\n",
    "gabry_counter = gabry_search.finditer(string_gabry)\n",
    "\n",
    "name_list = []\n",
    "for name in gabry_counter:\n",
    "    start = name.span()[0]\n",
    "    end = name.span()[1]\n",
    "    name_list.append(string_gabry[start:end])\n",
    "print(name_list)\n",
    "\n",
    "\n",
    "\n",
    "\n",
    "\n",
    "\n",
    "\n",
    "\n"
   ]
  }
 ],
 "metadata": {
  "kernelspec": {
   "display_name": "base",
   "language": "python",
   "name": "python3"
  },
  "language_info": {
   "codemirror_mode": {
    "name": "ipython",
    "version": 3
   },
   "file_extension": ".py",
   "mimetype": "text/x-python",
   "name": "python",
   "nbconvert_exporter": "python",
   "pygments_lexer": "ipython3",
   "version": "3.10.9"
  },
  "orig_nbformat": 4
 },
 "nbformat": 4,
 "nbformat_minor": 2
}
