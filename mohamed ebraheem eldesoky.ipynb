{
 "cells": [
  {
   "cell_type": "markdown",
   "id": "759d04ba",
   "metadata": {},
   "source": [
    "**1-Write a Python program to calculate the length of a string using 2 ways"
   ]
  },
  {
   "cell_type": "code",
   "execution_count": null,
   "id": "e434c950",
   "metadata": {},
   "outputs": [],
   "source": []
  },
  {
   "cell_type": "code",
   "execution_count": null,
   "id": "7a2dfa32",
   "metadata": {},
   "outputs": [],
   "source": []
  },
  {
   "cell_type": "markdown",
   "id": "d7cc9da7",
   "metadata": {},
   "source": [
    "**2-Write a Python program to get a string made of the first 2 and last 2 characters of a given string. If the string length is less than 2, return the empty string instead (\"##Sample String : 'w3resource'\n",
    "Expected Result : 'w3ce'\n",
    "##Sample String : 'w3'\n",
    "Expected Result : 'w3w3'\n",
    "##Sample String : ' w'\n",
    "Expected Result : Empty String)"
   ]
  },
  {
   "cell_type": "code",
   "execution_count": 3,
   "id": "dafa9dd8",
   "metadata": {},
   "outputs": [
    {
     "name": "stdout",
     "output_type": "stream",
     "text": [
      "empty string\n"
     ]
    }
   ],
   "source": [
    "gabry_string = input(\"enter your string\")\n",
    "len_gabry =  len(gabry_string)\n",
    "if len_gabry < 2 :\n",
    "    print(\"empty string\")\n",
    "elif len_gabry == 2 :\n",
    "    print(gabry_string*2)\n",
    "else:\n",
    "    print(gabry_string[0]+gabry_string[1]+gabry_string[-2]+gabry_string[-1])"
   ]
  },
  {
   "cell_type": "markdown",
   "id": "1534f956",
   "metadata": {},
   "source": [
    "**3-Write a Python program to add 'ing' at the end of a given string (length should be at least 3). If the given string already ends with 'ing', add 'ly' instead. If the string length of the given string is less than 3, leave it unchanged. (Sample String : 'abc'\n",
    "Expected Result : 'abcing')"
   ]
  },
  {
   "cell_type": "code",
   "execution_count": 7,
   "id": "7ff8cec4",
   "metadata": {},
   "outputs": [
    {
     "name": "stdout",
     "output_type": "stream",
     "text": [
      "moingly\n"
     ]
    }
   ],
   "source": [
    "mstring = input(\"please enter your string\")\n",
    "len_string = len(mstring)\n",
    "if len_string < 3 :\n",
    "    print(mstring)\n",
    "elif mstring[-3]== \"i\" and mstring[-2]==\"n\" and mstring[-1]==\"g\":\n",
    "    print(mstring+\"ly\")\n",
    "else:\n",
    "    print(mstring+\"ing\")"
   ]
  },
  {
   "cell_type": "markdown",
   "id": "1c0a6627",
   "metadata": {},
   "source": [
    "**4-Write a Python function that takes a list of words and return the longest word and the length of the longest one\n",
    "(Longest word: Exercises\n",
    "Length of the longest word: 9)"
   ]
  },
  {
   "cell_type": "code",
   "execution_count": 10,
   "id": "397341d9",
   "metadata": {},
   "outputs": [
    {
     "name": "stdout",
     "output_type": "stream",
     "text": [
      "7\n"
     ]
    }
   ],
   "source": [
    "gabry_list = input(\"please enter your list\").split()\n",
    "finallength=0\n",
    "for i in gabry_list:\n",
    "    wordlength=len(i)\n",
    "    if wordlength >= finallength:\n",
    "        finallength=wordlength\n",
    "\n",
    "print(finallength)        \n",
    "\n"
   ]
  },
  {
   "cell_type": "markdown",
   "id": "53a03a6a",
   "metadata": {},
   "source": [
    "**5-Write a Python program to change a given string to a newly string where the first and last chars have been exchanged using 2 ways (Sample String:abca  Expected Result:ebce)"
   ]
  },
  {
   "cell_type": "code",
   "execution_count": 16,
   "id": "fd327d2a",
   "metadata": {},
   "outputs": [
    {
     "name": "stdout",
     "output_type": "stream",
     "text": [
      "dhmea\n"
     ]
    }
   ],
   "source": [
    "mo_string=input(\"please enter your string\")\n",
    "len_mo = len(mo_string)\n",
    "print(mo_string[-1]+mo_string[1:len_mo-1]+mo_string[0])"
   ]
  },
  {
   "cell_type": "code",
   "execution_count": 18,
   "id": "285788b4",
   "metadata": {},
   "outputs": [
    {
     "name": "stdout",
     "output_type": "stream",
     "text": [
      "dohamem\n"
     ]
    }
   ],
   "source": [
    "z = input(\"please enter your string\")\n",
    "\n",
    "zlist = list(z)\n",
    "last=zlist.pop()\n",
    "first = zlist.pop(0)\n",
    "\n",
    "zfinal = \"\".join(zlist)\n",
    "print(last+zfinal+first)"
   ]
  },
  {
   "cell_type": "markdown",
   "id": "25f89808",
   "metadata": {},
   "source": [
    "**6-Write a Python program to remove characters that have odd index values in a given string (Sample String:abca Expected Result:ac)"
   ]
  },
  {
   "cell_type": "code",
   "execution_count": 26,
   "id": "05959bd7",
   "metadata": {},
   "outputs": [
    {
     "name": "stdout",
     "output_type": "stream",
     "text": [
      "mhmd\n"
     ]
    }
   ],
   "source": [
    "x = input(\"please enter your string\")\n",
    "print(x[::2])"
   ]
  },
  {
   "cell_type": "markdown",
   "id": "eb16e898",
   "metadata": {},
   "source": [
    "**7-Write a Python program to count the occurrences of each word in a given sentence (Sample String:amr and ahmed are frindes but amr is the tallest Expected Result:2)"
   ]
  },
  {
   "cell_type": "code",
   "execution_count": null,
   "id": "01ce6cf5",
   "metadata": {},
   "outputs": [],
   "source": []
  },
  {
   "cell_type": "markdown",
   "id": "4e8125f1",
   "metadata": {},
   "source": [
    "**8-Write a Python script that takes input from the user and displays that input back in upper and lower cases"
   ]
  },
  {
   "cell_type": "code",
   "execution_count": 9,
   "id": "66c8f778",
   "metadata": {},
   "outputs": [
    {
     "name": "stdout",
     "output_type": "stream",
     "text": [
      "MOHAMED\n",
      "mohamed\n"
     ]
    }
   ],
   "source": [
    "x = input(\"please enter your name\")\n",
    "print(x.upper())\n",
    "print(x.lower())"
   ]
  },
  {
   "cell_type": "markdown",
   "id": "fcd68aa1",
   "metadata": {},
   "source": [
    "**9-Write a Python function to reverse a string if its length is a multiple of 4"
   ]
  },
  {
   "cell_type": "code",
   "execution_count": 17,
   "id": "0671a931",
   "metadata": {},
   "outputs": [
    {
     "name": "stdout",
     "output_type": "stream",
     "text": [
      "dcba\n"
     ]
    }
   ],
   "source": [
    "name=input(\"enter a name:\")\n",
    "\n",
    "if(len(name)%4==0):\n",
    "    print(name[::-1])\n",
    "else:\n",
    "    print(\"\")"
   ]
  },
  {
   "cell_type": "markdown",
   "id": "b577c68d",
   "metadata": {},
   "source": [
    "**10- Write a Python program to remove a newline in Python"
   ]
  },
  {
   "cell_type": "code",
   "execution_count": 29,
   "id": "e0c6525a",
   "metadata": {},
   "outputs": [
    {
     "name": "stdout",
     "output_type": "stream",
     "text": [
      "before\n",
      " mohamed ebraheem eldesoky \n",
      "\n",
      "aftermohamed ebraheem eldesoky\n"
     ]
    }
   ],
   "source": [
    "message = \"\\n mohamed ebraheem eldesoky \\n\"\n",
    "print (\"before\"+message)\n",
    "print(\"after\"+message.strip())"
   ]
  },
  {
   "cell_type": "markdown",
   "id": "80db5ae0",
   "metadata": {},
   "source": [
    "**11-Write a Python program to check whether a string starts with specified characters"
   ]
  },
  {
   "cell_type": "code",
   "execution_count": 50,
   "id": "0cc4e03e",
   "metadata": {},
   "outputs": [
    {
     "name": "stdout",
     "output_type": "stream",
     "text": [
      "False\n"
     ]
    }
   ],
   "source": [
    "#name = input(\"please enter your string\")\n",
    "#if name.startswith(\"moh\"):\n",
    "#    print(name)\n",
    "#else:\n",
    "#    print(\"\")\n",
    "name = input(\"please enter your string\")\n",
    "if name[0:3]==\"moh\":\n",
    "    print(True)\n",
    "else:\n",
    "    print(False)    \n",
    "\n"
   ]
  },
  {
   "cell_type": "markdown",
   "id": "593a68db",
   "metadata": {},
   "source": [
    "**12- Write a Python program to add prefix text to all of the lines in a string"
   ]
  },
  {
   "cell_type": "code",
   "execution_count": null,
   "id": "d2e46ada",
   "metadata": {},
   "outputs": [],
   "source": []
  },
  {
   "cell_type": "markdown",
   "id": "bf15308f",
   "metadata": {},
   "source": [
    "**13-Write a Python program to print the following numbers up to 2 decimal places"
   ]
  },
  {
   "cell_type": "code",
   "execution_count": 54,
   "id": "e3188c2e",
   "metadata": {},
   "outputs": [
    {
     "name": "stdout",
     "output_type": "stream",
     "text": [
      "89.99\n"
     ]
    }
   ],
   "source": [
    "x = 89.994954\n",
    "\n",
    "print(\"%.2f\" % x)\n"
   ]
  },
  {
   "cell_type": "markdown",
   "id": "452c0ab0",
   "metadata": {},
   "source": [
    "**14-Write a Python program to print the following numbers up to 2 decimal places with a sign"
   ]
  },
  {
   "cell_type": "code",
   "execution_count": null,
   "id": "73e82479",
   "metadata": {},
   "outputs": [],
   "source": []
  },
  {
   "cell_type": "markdown",
   "id": "32b1811a",
   "metadata": {},
   "source": [
    "**15-Write a Python program to display a number with a comma separator"
   ]
  },
  {
   "cell_type": "code",
   "execution_count": 55,
   "id": "f30fc0b6",
   "metadata": {},
   "outputs": [
    {
     "name": "stdout",
     "output_type": "stream",
     "text": [
      "5,985,954\n"
     ]
    }
   ],
   "source": [
    "r = 5985954\n",
    "\n",
    "print(f'{r:,}')"
   ]
  },
  {
   "cell_type": "markdown",
   "id": "0477f487",
   "metadata": {},
   "source": [
    "**16-Write a Python program to reverse a string using 2 ways"
   ]
  },
  {
   "cell_type": "code",
   "execution_count": 56,
   "id": "aa8beec8",
   "metadata": {},
   "outputs": [
    {
     "name": "stdout",
     "output_type": "stream",
     "text": [
      "demahom\n"
     ]
    }
   ],
   "source": [
    "name=input(\"enter a name:\")\n",
    "print(name[::-1])"
   ]
  },
  {
   "cell_type": "markdown",
   "id": "5afc3166",
   "metadata": {},
   "source": [
    " **17-Write a Python program to count repeated characters in a string (hint:use dictionary)"
   ]
  },
  {
   "cell_type": "code",
   "execution_count": 62,
   "id": "515a469c",
   "metadata": {},
   "outputs": [
    {
     "name": "stdout",
     "output_type": "stream",
     "text": [
      "your ch is :  m dup number is :  2\n",
      "your ch is :  a dup number is :  2\n",
      "your ch is :  e dup number is :  2\n"
     ]
    }
   ],
   "source": [
    "string = \"mohamed elgabry\"\n",
    "\n",
    "m_dicti ={}\n",
    "\n",
    "for ch in string:\n",
    "    if ch in m_dicti:\n",
    "        m_dicti[ch]+=1\n",
    "    else:\n",
    "        m_dicti[ch]=1\n",
    "        \n",
    "        \n",
    "        \n",
    "for ch in m_dicti :\n",
    "    if m_dicti[ch] >1:\n",
    "        print(\"your ch is : \",ch,\"dup number is : \",m_dicti[ch])"
   ]
  },
  {
   "cell_type": "markdown",
   "id": "ae14e4e5",
   "metadata": {},
   "source": [
    "**18-Write a Python program to find the first non-repeating character in a given string"
   ]
  },
  {
   "cell_type": "code",
   "execution_count": 63,
   "id": "d73778e5",
   "metadata": {},
   "outputs": [
    {
     "name": "stdout",
     "output_type": "stream",
     "text": [
      "your ch is :  o\n",
      "your ch is :  h\n",
      "your ch is :  d\n",
      "your ch is :   \n",
      "your ch is :  l\n",
      "your ch is :  g\n",
      "your ch is :  b\n",
      "your ch is :  r\n",
      "your ch is :  y\n"
     ]
    }
   ],
   "source": [
    "string = \"mohamed elgabry\"\n",
    "\n",
    "m_dicti ={}\n",
    "\n",
    "for ch in string:\n",
    "    if ch in m_dicti:\n",
    "        m_dicti[ch]+=1\n",
    "    else:\n",
    "        m_dicti[ch]=1\n",
    "        \n",
    "        \n",
    "        \n",
    "for ch in m_dicti :\n",
    "    if m_dicti[ch] ==1:\n",
    "        print(\"your ch is : \",ch)"
   ]
  },
  {
   "cell_type": "markdown",
   "id": "3adf5669",
   "metadata": {},
   "source": [
    "**19-Write a Python program to remove spaces from a given string"
   ]
  },
  {
   "cell_type": "code",
   "execution_count": 64,
   "id": "b4f22602",
   "metadata": {},
   "outputs": [
    {
     "name": "stdout",
     "output_type": "stream",
     "text": [
      "['m', 'o', 'h', 'a', 'm', 'e', 'd', ' ', 'e', 'b', 'r', 'a', 'h', 'e', 'e', 'm', ' ', 'e', 'l', 'd', 'e', 's', 'o', 'k', 'y']\n",
      "['m', 'o', 'h', 'a', 'm', 'e', 'd', 'e', 'b', 'r', 'a', 'h', 'e', 'e', 'm', 'e', 'l', 'd', 'e', 's', 'o', 'k', 'y']\n"
     ]
    }
   ],
   "source": [
    "m_string = \"mohamed ebraheem eldesoky\"\n",
    "m_list = list(m_string)\n",
    "m_len = len(m_list)\n",
    "\n",
    "print(m_list)\n",
    "\n",
    "n = 0\n",
    "while n < m_len:\n",
    "    if m_list[n] == ' ':\n",
    "        m_list.remove(\" \")\n",
    "        m_len -= 1\n",
    "    else:\n",
    "        n += 1\n",
    "\n",
    "print(m_list)"
   ]
  },
  {
   "cell_type": "markdown",
   "id": "734de60c",
   "metadata": {},
   "source": [
    "**20-Write a Python program to count the number of non-empty substrings of a given string"
   ]
  },
  {
   "cell_type": "code",
   "execution_count": 65,
   "id": "ef3f2274",
   "metadata": {},
   "outputs": [
    {
     "name": "stdout",
     "output_type": "stream",
     "text": [
      "4\n"
     ]
    }
   ],
   "source": [
    "m_list = input(\"Enter your string : \").split()\n",
    "\n",
    "\n",
    "m_len = len(m_list)\n",
    "\n",
    "co = 0\n",
    "for i in range(m_len):\n",
    "    if m_list[i] != ' ' :\n",
    "        co+=1\n",
    "\n",
    "\n",
    "\n",
    "print(co)"
   ]
  },
  {
   "cell_type": "markdown",
   "id": "509998e2",
   "metadata": {},
   "source": [
    "**21-write a Python program to swap first and last element of any list."
   ]
  },
  {
   "cell_type": "code",
   "execution_count": 66,
   "id": "68692d7f",
   "metadata": {},
   "outputs": [
    {
     "name": "stdout",
     "output_type": "stream",
     "text": [
      "['elgabry', 'mohamed']\n"
     ]
    }
   ],
   "source": [
    "m_list = input(\"Enter your list : \").split()\n",
    "\n",
    "\n",
    "m_swap = m_list[0]\n",
    "\n",
    "m_list[0] = m_list[-1]\n",
    "\n",
    "m_list[-1]= m_swap\n",
    "\n",
    "\n",
    "print(m_list)"
   ]
  },
  {
   "cell_type": "markdown",
   "id": "959e0837",
   "metadata": {},
   "source": [
    "**22-Given a list in Python and provided the positions of the elements, write a program to swap the two elements in the list. (Input : List = [23, 65, 19, 90], pos1 = 1, pos2 = 3\n",
    "Output : [19, 65, 23, 90])"
   ]
  },
  {
   "cell_type": "code",
   "execution_count": null,
   "id": "225d8c6d",
   "metadata": {},
   "outputs": [],
   "source": [
    "m_list = input(\"Enter your list : \").split()\n",
    "\n",
    "m = int(input(\"Enter your pos1 : \"))-1\n",
    "\n",
    "x = int(input(\"Enter your pos2 : \"))-1\n",
    "\n",
    "\n",
    "m_swap = m_list[mo_1]\n",
    "\n",
    "m_list[m] = m_list[x]\n",
    "    \n",
    "m_list[x]= m_swap\n",
    "    \n",
    "\n",
    "\n",
    "print(m_list)"
   ]
  },
  {
   "cell_type": "markdown",
   "id": "66fc6682",
   "metadata": {},
   "source": [
    "**23- search for the all ways to know the length of the list"
   ]
  },
  {
   "cell_type": "code",
   "execution_count": 67,
   "id": "63ff8b43",
   "metadata": {},
   "outputs": [
    {
     "name": "stdout",
     "output_type": "stream",
     "text": [
      "d\n"
     ]
    }
   ],
   "source": [
    "m_list = ['m','o','h','a','m','e','d']\n",
    "\n",
    "m_len = len(m_list)\n",
    "m_list = ['m','o','h','a','m','e','d']\n",
    "\n",
    "x=0\n",
    "for m in m_list:\n",
    "    x+=1\n",
    "    \n",
    "    \n",
    "print(m)"
   ]
  },
  {
   "cell_type": "markdown",
   "id": "1def624b",
   "metadata": {},
   "source": [
    "**24-write a Python code to find the Maximum number of list of numbers."
   ]
  },
  {
   "cell_type": "code",
   "execution_count": null,
   "id": "15f342de",
   "metadata": {},
   "outputs": [],
   "source": []
  },
  {
   "cell_type": "code",
   "execution_count": null,
   "id": "1a89b9d3",
   "metadata": {},
   "outputs": [],
   "source": [
    "**25-write a Python code to find the Minimum number of list of numbers."
   ]
  },
  {
   "cell_type": "code",
   "execution_count": null,
   "id": "21f8cbd6",
   "metadata": {},
   "outputs": [],
   "source": []
  },
  {
   "cell_type": "markdown",
   "id": "96822d96",
   "metadata": {},
   "source": [
    "**26-search for if an elem is existing in list"
   ]
  },
  {
   "cell_type": "code",
   "execution_count": null,
   "id": "51ca5c9a",
   "metadata": {},
   "outputs": [],
   "source": [
    "mo_list = input(\"Enter your list : \").split()\n",
    "\n",
    "mo_elment = input(\"enter your element : \")\n",
    "\n",
    "mo_len = len(mo_list)\n",
    "\n",
    "check =0\n",
    "for n in range(mo_len):\n",
    "    if mo_list[n] == mo_elment:\n",
    "        check+=1\n",
    "        \n",
    "\n",
    "\n",
    "if check>0 :\n",
    "    print(\"YES\")\n",
    "else:\n",
    "    print(\"NO\")"
   ]
  },
  {
   "cell_type": "markdown",
   "id": "d9557da7",
   "metadata": {},
   "source": [
    "**27- clear python list using different ways"
   ]
  },
  {
   "cell_type": "code",
   "execution_count": null,
   "id": "b69858a3",
   "metadata": {},
   "outputs": [],
   "source": [
    "mo_list = [1,5,8,9,77,44]\n",
    "\n",
    "mo_list.clear()\n",
    "\n",
    "print(mo_list)"
   ]
  },
  {
   "cell_type": "markdown",
   "id": "52160e88",
   "metadata": {},
   "source": [
    "**28-remove duplicated elements from a list"
   ]
  },
  {
   "cell_type": "code",
   "execution_count": null,
   "id": "5e362228",
   "metadata": {},
   "outputs": [],
   "source": [
    "mo_string = \"eeaatt\"\n",
    "\n",
    "mo_list = list(mo_string)\n",
    "\n",
    "mo_list_2 = []\n",
    "\n",
    "for n in mo_list :\n",
    "    if n not in mo_list_2 :\n",
    "        mo_list_2+=n\n",
    "        \n",
    "        \n",
    "mo_string_fin = \"\".join(mo_list_2)\n",
    "\n",
    "print(mo_string_fin)"
   ]
  },
  {
   "cell_type": "markdown",
   "id": "282337f7",
   "metadata": {},
   "source": [
    "**29-Given list values and keys list, convert these values to key value pairs in form of list of dictionaries. (Input : test_list = [“Gfg”, 3, “is”, 8], key_list = [“name”, “id”]\n",
    "Output : [{‘name’: ‘Gfg’, ‘id’: 3}, {‘name’: ‘is’, ‘id’: 8}])"
   ]
  },
  {
   "cell_type": "code",
   "execution_count": null,
   "id": "4d4e2d28",
   "metadata": {},
   "outputs": [],
   "source": []
  },
  {
   "cell_type": "markdown",
   "id": "c26b6e9f",
   "metadata": {},
   "source": [
    "**30-write a python program to count unique values inside a list using different ways"
   ]
  },
  {
   "cell_type": "code",
   "execution_count": null,
   "id": "72132667",
   "metadata": {},
   "outputs": [],
   "source": [
    "mo_list = ['m', 'o', 'h', 'a', 'm', 'e', 'd']\n",
    "\n",
    "mo_uniq = {}\n",
    "for m in mo_list:\n",
    "    if m in mo_uniq:\n",
    "        mo_uniq[m] += 1\n",
    "    else:\n",
    "        mo_uniq[m] = 1\n",
    "\n",
    "print(mo_uniq)\n"
   ]
  },
  {
   "cell_type": "markdown",
   "id": "fed6677c",
   "metadata": {},
   "source": [
    "**31-write a python program Extract all elements with Frequency greater than K (Input : test_list = [4, 6, 4, 3, 3, 4, 3, 4, 3, 8], K = 3 \n",
    "Output : [4, 3] )"
   ]
  },
  {
   "cell_type": "code",
   "execution_count": null,
   "id": "d81f3f9d",
   "metadata": {},
   "outputs": [],
   "source": [
    "mo_list = [4, 6, 4, 3, 3, 4, 3, 4, 3, 8]\n",
    "\n",
    "k = 3\n",
    "\n",
    "mo_dici = {}\n",
    "\n",
    "\n",
    "for i in mo_list:\n",
    "    if i not in mo_dici :\n",
    "        mo_dici[i]=1 \n",
    "    else:\n",
    "        mo_dici[i]+=1"
   ]
  },
  {
   "cell_type": "markdown",
   "id": "caca5224",
   "metadata": {},
   "source": [
    "**32-write a python program to find the Strongest Neighbour (Input: 1 2 2 3 4 5\n",
    "Output: 2 2 3 4 5)"
   ]
  },
  {
   "cell_type": "code",
   "execution_count": null,
   "id": "39fbd9b2",
   "metadata": {},
   "outputs": [],
   "source": []
  },
  {
   "cell_type": "markdown",
   "id": "a9fa8baf",
   "metadata": {},
   "source": [
    "**33-write a Python Program to print all Possible Combinations from the three Digits (Input: [1, 2, 3]\n",
    "Output:\n",
    "1 2 3 ##\n",
    "1 3 2 ##\n",
    "2 1 3 ##\n",
    "2 3 1 ##\n",
    "3 1 2 ##\n",
    "3 2 1)"
   ]
  },
  {
   "cell_type": "code",
   "execution_count": null,
   "id": "8c520a76",
   "metadata": {},
   "outputs": [],
   "source": []
  },
  {
   "cell_type": "markdown",
   "id": "5288bb89",
   "metadata": {},
   "source": [
    "**34-write a Python program to find all the Combinations in the list with the given condition (Input: test_list = [1,2,3] \n",
    "Output: \n",
    " [1], [1, 2], [1, 2, 3], [1, 3]\n",
    " [2], [2, 3], [3])"
   ]
  },
  {
   "cell_type": "code",
   "execution_count": null,
   "id": "59b89646",
   "metadata": {},
   "outputs": [],
   "source": []
  },
  {
   "cell_type": "markdown",
   "id": "39973705",
   "metadata": {},
   "source": [
    "**35-write a Python program to get all unique combinations of two Lists (List_1 = [\"a\",\"b\"]\n",
    "List_2 = [1,2]\n",
    "Unique_combination = [[('a',1),('b',2)],[('a',2),('b',1)]] )"
   ]
  },
  {
   "cell_type": "code",
   "execution_count": null,
   "id": "8c4ba22b",
   "metadata": {},
   "outputs": [],
   "source": []
  },
  {
   "cell_type": "markdown",
   "id": "25199af5",
   "metadata": {},
   "source": [
    "**36-Remove all the occurrences of an element from a list in Python (Input : 1 1 2 3 4 5 1 2 1 \n",
    "\n",
    "**Output : 2 3 4 5 2)"
   ]
  },
  {
   "cell_type": "code",
   "execution_count": null,
   "id": "6dc4c2ba",
   "metadata": {},
   "outputs": [],
   "source": []
  },
  {
   "cell_type": "markdown",
   "id": "bf1a3c93",
   "metadata": {},
   "source": [
    "**37-write a python program to Replace index elements with elements in Other List (The original list 1 is : [‘Gfg’, ‘is’, ‘best’] The original list 2 is : [0, 1, 2, 1, 0, 0, 0, 2, 1, 1, 2, 0] The lists after index elements replacements is : [‘Gfg’, ‘is’, ‘best’, ‘is’, ‘Gfg’, ‘Gfg’, ‘Gfg’, ‘best’, ‘is’, ‘is’, ‘best’, ‘Gfg’])"
   ]
  },
  {
   "cell_type": "code",
   "execution_count": null,
   "id": "fdd66a71",
   "metadata": {},
   "outputs": [],
   "source": []
  },
  {
   "cell_type": "markdown",
   "id": "af0f56e8",
   "metadata": {},
   "source": [
    "**38- write python program to Retain records with N occurrences of K(Input : test_list = [(4, 5, 5, 4), (5, 4, 3)], K = 5, N = 2 \n",
    "Output : [(4, 5, 5, 4)]\n",
    "Input : test_list = [(4, 5, 5, 4), (5, 4, 3)], K = 5, N = 3 \n",
    "Output : [] )"
   ]
  },
  {
   "cell_type": "code",
   "execution_count": null,
   "id": "67b06671",
   "metadata": {},
   "outputs": [],
   "source": []
  },
  {
   "cell_type": "markdown",
   "id": "de76f183",
   "metadata": {},
   "source": [
    "**39-write a Python Program to Sort the list according to the column using lambda\n",
    "array = [[1, 3, 3], [2, 1, 2], [3, 2, 1]]\n",
    "Output :\n",
    "Sorted array specific to column 0, [[1, 3, 3], [2, 1, 2], [3, 2, 1]]\n",
    "Sorted array specific to column 1, [[2, 1, 2], [3, 2, 1], [1, 3, 3]]\n",
    "Sorted array specific to column 2, [[3, 2, 1], [2, 1, 2], [1, 3, 3]]"
   ]
  },
  {
   "cell_type": "code",
   "execution_count": null,
   "id": "dc883308",
   "metadata": {},
   "outputs": [],
   "source": []
  },
  {
   "cell_type": "code",
   "execution_count": null,
   "id": "d2e7b31f",
   "metadata": {},
   "outputs": [],
   "source": [
    "**40- write a program to Sort Python Dictionaries by Key or Value"
   ]
  },
  {
   "cell_type": "code",
   "execution_count": null,
   "id": "a96db4a0",
   "metadata": {},
   "outputs": [],
   "source": []
  },
  {
   "cell_type": "markdown",
   "id": "ec63c23a",
   "metadata": {},
   "source": [
    "**41-write python program to Remove keys with Values Greater than K ( Including mixed values )\n",
    "nput : test_dict = {‘Gfg’ : 3, ‘is’ : 7, ‘best’ : 10, ‘for’ : 6, ‘geeks’ : ‘CS’},\n",
    "K = 7 \n",
    "Output : {‘Gfg’ : 3, ‘for’ : 6, ‘geeks’ : ‘CS’}"
   ]
  },
  {
   "cell_type": "code",
   "execution_count": null,
   "id": "e39c3a40",
   "metadata": {},
   "outputs": [],
   "source": []
  },
  {
   "cell_type": "markdown",
   "id": "f143f0fe",
   "metadata": {},
   "source": [
    "**42-Write a Python program to concatenate the following dictionaries to create a new one\n",
    "\n",
    "Sample Dictionary :\n",
    "dic1={1:10, 2:20}\n",
    "dic2={3:30, 4:40}\n",
    "dic3={5:50,6:60}\n",
    "Expected Result : {1: 10, 2: 20, 3: 30, 4: 40, 5: 50, 6: 60}"
   ]
  },
  {
   "cell_type": "code",
   "execution_count": null,
   "id": "74ffdfea",
   "metadata": {},
   "outputs": [],
   "source": []
  },
  {
   "cell_type": "markdown",
   "id": "fb04c93c",
   "metadata": {},
   "source": [
    "**43-Write a Python program to iterate over dictionaries using for loops"
   ]
  },
  {
   "cell_type": "code",
   "execution_count": 68,
   "id": "6aebc470",
   "metadata": {},
   "outputs": [
    {
     "name": "stdout",
     "output_type": "stream",
     "text": [
      "Red corresponds to  1\n",
      "Green corresponds to  2\n",
      "Blue corresponds to  3\n"
     ]
    }
   ],
   "source": [
    "d = {'Red': 1, 'Green': 2, 'Blue': 3} \n",
    "for color_key, value in d.items():\n",
    "     print(color_key, 'corresponds to ', d[color_key]) \n"
   ]
  },
  {
   "cell_type": "markdown",
   "id": "5f491a9d",
   "metadata": {},
   "source": [
    "**44- Write a Python script to merge two Python dictionaries"
   ]
  },
  {
   "cell_type": "code",
   "execution_count": null,
   "id": "b8a14028",
   "metadata": {},
   "outputs": [],
   "source": []
  },
  {
   "cell_type": "markdown",
   "id": "216fc72d",
   "metadata": {},
   "source": [
    "**45-Write a Python program to get the maximum and minimum values of a dictionary values"
   ]
  },
  {
   "cell_type": "code",
   "execution_count": null,
   "id": "d6883f5f",
   "metadata": {},
   "outputs": [],
   "source": []
  },
  {
   "cell_type": "markdown",
   "id": "b6a53011",
   "metadata": {},
   "source": [
    "**46- Write a Python program to drop empty items from a given dictionary.\n",
    "Original Dictionary:\n",
    "{'c1': 'Red', 'c2': 'Green', 'c3': None}\n",
    "New Dictionary after dropping empty items:\n",
    "{'c1': 'Red', 'c2': 'Green'}"
   ]
  },
  {
   "cell_type": "code",
   "execution_count": null,
   "id": "b5c6fecf",
   "metadata": {},
   "outputs": [],
   "source": []
  },
  {
   "cell_type": "markdown",
   "id": "46d718c7",
   "metadata": {},
   "source": [
    "**47-Write a Python program to create a tuple of numbers and print one item"
   ]
  },
  {
   "cell_type": "code",
   "execution_count": null,
   "id": "13216ff5",
   "metadata": {},
   "outputs": [],
   "source": []
  },
  {
   "cell_type": "markdown",
   "id": "2be5b56b",
   "metadata": {},
   "source": [
    "**48-Write a Python program to unpack a tuple into several variables"
   ]
  },
  {
   "cell_type": "code",
   "execution_count": null,
   "id": "595f44be",
   "metadata": {},
   "outputs": [],
   "source": []
  },
  {
   "cell_type": "markdown",
   "id": "392388a7",
   "metadata": {},
   "source": [
    "**49-Write a Python program to add an item to a tuple"
   ]
  },
  {
   "cell_type": "code",
   "execution_count": null,
   "id": "54cc092e",
   "metadata": {},
   "outputs": [],
   "source": []
  },
  {
   "cell_type": "markdown",
   "id": "3e8fd124",
   "metadata": {},
   "source": [
    "**50-Write a Python program to convert a tuple to a string"
   ]
  },
  {
   "cell_type": "code",
   "execution_count": null,
   "id": "92a71ddc",
   "metadata": {},
   "outputs": [],
   "source": [
    "mo_tuple = ('m','j','k','l','o','p')\n",
    "\n",
    "mo_str =\"\".join(mo_tuple)\n",
    "\n",
    "print(mo_str,\"\\n\",type(mo_str))"
   ]
  },
  {
   "cell_type": "markdown",
   "id": "f4f64ef4",
   "metadata": {},
   "source": [
    "**51-Write a Python program to convert a list to a tuple"
   ]
  },
  {
   "cell_type": "code",
   "execution_count": null,
   "id": "210d56d3",
   "metadata": {},
   "outputs": [],
   "source": [
    "mo_list = [7,8,9,7,6]\n",
    "\n",
    "mo_tuple = tuple(mo_list)\n",
    "\n",
    "print(type(mo_tuple))"
   ]
  },
  {
   "cell_type": "markdown",
   "id": "b1e00ef7",
   "metadata": {},
   "source": [
    "**52-Write a Python program to reverse a tuple"
   ]
  },
  {
   "cell_type": "code",
   "execution_count": null,
   "id": "f45bfdc7",
   "metadata": {},
   "outputs": [],
   "source": [
    "mo_tuple = (1,2,3,4,5,6)\n",
    "\n",
    "mo_list = list(mo_tuple)\n",
    "\n",
    "mo_list.reverse()\n",
    "\n",
    "mo_tuple_re = tuple(mo_list)\n",
    "\n",
    "print(mo_tuple_re)"
   ]
  },
  {
   "cell_type": "markdown",
   "id": "3cd347d1",
   "metadata": {},
   "source": [
    "**53-Write a Python program to replace the last value of tuples in a list.\n",
    "Sample list: [(10, 20, 40), (40, 50, 60), (70, 80, 90)]\n",
    "Expected Output: [(10, 20, 100), (40, 50, 100), (70, 80, 100)]"
   ]
  },
  {
   "cell_type": "code",
   "execution_count": null,
   "id": "3c4a2a4c",
   "metadata": {},
   "outputs": [],
   "source": [
    "mo_list =  [(10, 20, 40), (40, 50, 60), (70, 80, 90)]\n",
    "\n",
    "mo_len=len(mo_list)\n",
    "\n",
    "for i in range(mo_len) :\n",
    "    mo_list[i] = list(mo_list[i])\n",
    "    \n",
    "    \n",
    "for i in range(mo_len) :\n",
    "    mo_list[i][-1]=100\n",
    "    \n",
    "    \n",
    "    \n",
    "for i in range(mo_len) :\n",
    "    mo_list[i] = tuple(mo_list[i])  \n",
    "\n",
    "print(mo_list)"
   ]
  },
  {
   "cell_type": "markdown",
   "id": "76bb7b39",
   "metadata": {},
   "source": [
    "**54-Write a Python program to convert a given string list to a tuple\n",
    "Original string: python 3.0\n",
    "<class 'str'>\n",
    "Convert the said string to a tuple:\n",
    "('p', 'y', 't', 'h', 'o', 'n', '3', '.', '0')"
   ]
  },
  {
   "cell_type": "code",
   "execution_count": null,
   "id": "51951937",
   "metadata": {},
   "outputs": [],
   "source": [
    "mo_tuple = ('p', 'y', 't', 'h', 'o', 'n', '3', '.', '0')\n",
    "\n",
    "mo_string = ''.join(mo_tuple)\n",
    "\n",
    "\n",
    "print(\"tuple before convert :  \", mo_tuple ,\" type : \", type(mo_tuple))\n",
    "\n",
    "print(\"\\n\")\n",
    "\n",
    "print(\"tuple after convert :  \", mo_string ,\" type : \", type(mo_string))"
   ]
  },
  {
   "cell_type": "markdown",
   "id": "5a1d5d97",
   "metadata": {},
   "source": [
    "**55-Write a Python program to calculate the average value of the numbers in a given tuple of tuples"
   ]
  },
  {
   "cell_type": "code",
   "execution_count": null,
   "id": "834e7992",
   "metadata": {},
   "outputs": [],
   "source": [
    "mo_tuple=(9,0,3,2,1)\n",
    "\n",
    "mo_len = len(mo_tuple)\n",
    "\n",
    "sum=0\n",
    "for num in mo_tuple:\n",
    "    sum+=num\n",
    "\n",
    "aver = sum/mo_len\n",
    "\n",
    "print(aver)"
   ]
  },
  {
   "cell_type": "markdown",
   "id": "51edab9c",
   "metadata": {},
   "source": [
    "**56-Write a Python program to add member(s) to a set."
   ]
  },
  {
   "cell_type": "code",
   "execution_count": null,
   "id": "2b65df79",
   "metadata": {},
   "outputs": [],
   "source": [
    "mo_set={8,7,4,3,5}\n",
    "\n",
    "mo_set.add(0)\n",
    "\n",
    "mo_set.add(1)   \n",
    "\n",
    "mo_set.add(2)   \n",
    "      \n",
    "        \n",
    "print(mo_set)"
   ]
  },
  {
   "cell_type": "markdown",
   "id": "965590cc",
   "metadata": {},
   "source": [
    "**57-Write a Python program to remove an item from a set if it is present in the set."
   ]
  },
  {
   "cell_type": "code",
   "execution_count": null,
   "id": "866bab28",
   "metadata": {},
   "outputs": [],
   "source": [
    "momo_set={8,7,4,3,5,5,5}\n",
    "\n",
    "mo_list = list(mo_set)\n",
    "\n",
    "\n",
    "mo_list_fin =[]\n",
    "\n",
    "\n",
    "for m in mo_list :\n",
    "    if m not in mo_list_fin:\n",
    "        mo_list_fin.append(m)\n",
    "        \n",
    "        \n",
    "        \n",
    "print(mo_list_fin)"
   ]
  },
  {
   "cell_type": "markdown",
   "id": "2b7cfed1",
   "metadata": {},
   "source": [
    "**58-Write a Python program to create an intersection,union,difference and symmetric difference of sets"
   ]
  },
  {
   "cell_type": "code",
   "execution_count": null,
   "id": "7f94b7fe",
   "metadata": {},
   "outputs": [],
   "source": [
    "mo_set_1 = {5,8,1,2,3}\n",
    "\n",
    "mo_set_2 = {7,6,1,2,3}  \n",
    "\n",
    "union = mo_set_1.union(mo_set_2)\n",
    "\n",
    "intre = mo_set_1.intersection(mo_set_2)\n",
    "\n",
    "diff = mo_set_1.difference(mo_set_2)\n",
    "\n",
    "sym_diff =mo_set_1.symmetric_difference(mo_set_2)\n",
    "\n",
    "\n",
    "print(\"union : \",union)\n",
    "print(\"intersection : \",intre)\n",
    "print(\"difference : \",diff)\n",
    "print(\"symmetric_difference : \",sym_diff)"
   ]
  },
  {
   "cell_type": "markdown",
   "id": "b94931e2",
   "metadata": {},
   "source": [
    "**59-Write a Python program to find the maximum and minimum values in a set"
   ]
  },
  {
   "cell_type": "code",
   "execution_count": null,
   "id": "203f9600",
   "metadata": {},
   "outputs": [],
   "source": [
    "mo_input = input(\"please enter your set : \")\n",
    "\n",
    "mo_set  = set(map(int,mo_input.split()))\n",
    "\n",
    "mo_list = list(mo_set)\n",
    "\n",
    "max_num = mo_list[-1]\n",
    "\n",
    "min_num = mo_list[0]\n",
    "\n",
    "print(\"max_num : \",max_num,\" min_num : \",min_num)"
   ]
  },
  {
   "cell_type": "markdown",
   "id": "255fd554",
   "metadata": {},
   "source": [
    "**60- Write a Python program that finds all pairs of elements in a list whose sum is equal to a given value."
   ]
  },
  {
   "cell_type": "code",
   "execution_count": null,
   "id": "c2d94e1f",
   "metadata": {},
   "outputs": [],
   "source": [
    "mo_list = [1,2,3,4,5,6,7,8]\n",
    "\n",
    "mo_len = len(mo_list)\n",
    "mo_num = 9\n",
    "\n",
    "mo_list1 = []\n",
    "for i in range(mo_len) :\n",
    "    for m in range(i+1,mo_len):\n",
    "        if mo_list[i] + mo_list[m] == mo_num :\n",
    "            mo_list1.append((mo_list[i],mo_list[m]))\n",
    "\n",
    "\n",
    "\n",
    "print(mo_list1)"
   ]
  }
 ],
 "metadata": {
  "kernelspec": {
   "display_name": "Python 3 (ipykernel)",
   "language": "python",
   "name": "python3"
  },
  "language_info": {
   "codemirror_mode": {
    "name": "ipython",
    "version": 3
   },
   "file_extension": ".py",
   "mimetype": "text/x-python",
   "name": "python",
   "nbconvert_exporter": "python",
   "pygments_lexer": "ipython3",
   "version": "3.10.9"
  }
 },
 "nbformat": 4,
 "nbformat_minor": 5
}
